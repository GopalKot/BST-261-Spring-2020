{
  "nbformat": 4,
  "nbformat_minor": 0,
  "metadata": {
    "colab": {
      "name": "Lab1_solutions.ipynb",
      "provenance": [],
      "collapsed_sections": []
    },
    "kernelspec": {
      "name": "python3",
      "display_name": "Python 3"
    }
  },
  "cells": [
    {
      "cell_type": "markdown",
      "metadata": {
        "id": "aGnMtz5kWezG",
        "colab_type": "text"
      },
      "source": [
        "# Lab 1\n",
        "Today's lab consists of practice questions to review the topics presented thus far in class. We will be focusing on:\n",
        "1. Neural network terminology and architecture\n",
        "2. Python\n",
        "3. Forward and backward propagation\n",
        "4. Tensorflow\n",
        "\n",
        "### Question 1\n",
        "Let's review the terminology introduced by thinking about how to design a model for each the following scenarios. It's important to remember that while there is more than one correct answer in these cases, we want to develop an intuition to help save time in parameter tuning, training, computational resources, etc. We'll also briefy touch on some advanced topics to provide a foundation for later in the course, and remember you do not need to use a deep neural network in every case.\n",
        "\n",
        "*Case 1:* The input is the MNIST handwritten digits dataset (features are 28x28 pixel intensities and labels are digits 0-9). We want to predict which digit the image represents and there are only 10 images per category ($N=100$).\n",
        "\n",
        "    - Random forest, k-nearest neighbors because of the small sample size and relatively easy prediction task.\n",
        "\n",
        "*Case 2:* The identical setup but this time there are thousands of images per category.\n",
        "\n",
        "    - Either of the above methods are fine, or using a simple neural network. Activation function needs to be softmax and loss function needs to be categorical cross-entropy.\n",
        "\n",
        "*Case 3:* The identical setup as case 2 but this time images may contain multiple digits or no digits at all.\n",
        "\n",
        "    - Last layer activation should be sigmoid and BCE (binary cross_entropy).\n",
        "\n",
        "*Case 4:*  The covariates are BMI measurements and reported smoking status, the labels are binary denoting cardiovascular disease. Our sample consists of 70 individuals and we want to predict an individuals' health status based on their BMI and smoking status. We are interested in the effect of BMI on cardiovascular disease.\n",
        "\n",
        "    - Logistic regression.\n",
        "\n",
        "*Case 5:* The input consists of thousands of images of different animals and we want to classify which animal the image contains. \n",
        "\n",
        "    - CNN with softmax and CCE (categorical cross-entropy) or sigmoid and BCE (binary cross_entropy).\n",
        "\n",
        "*Case 6:* The input consists of thousands of English sentences and we want to predict the next word in the sentences. \n",
        "\n",
        "    - RNN\n",
        "\n",
        "*Case 7:* The input consists of biomarker status for thousands of loci across thousands of individuals (i.e. Ancestry.com). There are no associated labels and we wish to learn about population substructure. \n",
        "\n",
        "    - PCA, VAE (variational autoencoders), etc."
      ]
    },
    {
      "cell_type": "markdown",
      "metadata": {
        "id": "XdKVc4HJXHra",
        "colab_type": "text"
      },
      "source": [
        "### Question 2\n",
        "\n",
        "Draw the architecture of a neural network satisying the following conditions:\n",
        "\n",
        "1. X is a univariate covariate. We will consider the case when X=5.\n",
        "2. There are two hidden layers. The first consists of two nodes, each with a bias term taking values (-1 and 1, respectively). The weight going to the first node takes value 0.5 and the weight going to the second node takes value -0.5.\n",
        "3. The nodes in hidden layer 1 each use a linear activation function.\n",
        "4. Hidden layer 2 consists of a single node with no bias term and the ReLU activation function. The weight from node 1 in hidden layer 1 is 0.3 and the weight from node 2 in hidden layer 1 is 0.7.\n",
        "5. Hidden layer 2 outputs to a single output node. The bias term for the output node is 0.5 and the weight from hidden layer 2 is 2. \n",
        "6. The loss function to be optimized is squared loss."
      ]
    },
    {
      "cell_type": "markdown",
      "metadata": {
        "id": "IG8mJmFwXqkQ",
        "colab_type": "text"
      },
      "source": [
        "![network](https://drive.google.com/uc?id=1drR4LqhaigJnw2-fCzQ6EKtlcfPHG5s2)"
      ]
    },
    {
      "cell_type": "markdown",
      "metadata": {
        "id": "KqhSrFWpZNWr",
        "colab_type": "text"
      },
      "source": [
        "### Question 3\n",
        "Implement a single forward pass of the network described in Question 3. You do not need to implement the network in keras and should instead use numpy operations (either scalar or matrix). Start by defining the weights and input matrices."
      ]
    },
    {
      "cell_type": "code",
      "metadata": {
        "id": "blT8waJAWbhj",
        "colab_type": "code",
        "outputId": "273470e8-11ad-40eb-bcc4-7482f7bf5812",
        "colab": {
          "base_uri": "https://localhost:8080/",
          "height": 496
        }
      },
      "source": [
        "# Import necessary packages\n",
        "from __future__ import absolute_import, division, print_function, unicode_literals\n",
        "try:\n",
        "  # %tensorflow_version only exists in Colab.\n",
        "  %tensorflow_version 2.x\n",
        "except Exception:\n",
        "  pass\n",
        "import tensorflow as tf\n",
        "import tensorflow_datasets as tfds\n",
        "!pip install tensorflow-hub\n",
        "!pip install tfds-nightly\n",
        "import tensorflow_hub as hub\n",
        "import keras\n",
        "from keras import models\n",
        "from keras import layers\n",
        "import numpy as np"
      ],
      "execution_count": 0,
      "outputs": [
        {
          "output_type": "stream",
          "text": [
            "TensorFlow 2.x selected.\n",
            "Requirement already satisfied: tensorflow-hub in /usr/local/lib/python3.6/dist-packages (0.7.0)\n",
            "Requirement already satisfied: protobuf>=3.4.0 in /usr/local/lib/python3.6/dist-packages (from tensorflow-hub) (3.10.0)\n",
            "Requirement already satisfied: six>=1.10.0 in /usr/local/lib/python3.6/dist-packages (from tensorflow-hub) (1.12.0)\n",
            "Requirement already satisfied: numpy>=1.12.0 in /usr/local/lib/python3.6/dist-packages (from tensorflow-hub) (1.18.2)\n",
            "Requirement already satisfied: setuptools in /usr/local/lib/python3.6/dist-packages (from protobuf>=3.4.0->tensorflow-hub) (46.0.0)\n",
            "Requirement already satisfied: tfds-nightly in /usr/local/lib/python3.6/dist-packages (2.1.0.dev202003190105)\n",
            "Requirement already satisfied: dill in /usr/local/lib/python3.6/dist-packages (from tfds-nightly) (0.3.1.1)\n",
            "Requirement already satisfied: tqdm in /usr/local/lib/python3.6/dist-packages (from tfds-nightly) (4.38.0)\n",
            "Requirement already satisfied: wrapt in /usr/local/lib/python3.6/dist-packages (from tfds-nightly) (1.12.1)\n",
            "Requirement already satisfied: attrs>=18.1.0 in /usr/local/lib/python3.6/dist-packages (from tfds-nightly) (19.3.0)\n",
            "Requirement already satisfied: six in /usr/local/lib/python3.6/dist-packages (from tfds-nightly) (1.12.0)\n",
            "Requirement already satisfied: tensorflow-metadata in /usr/local/lib/python3.6/dist-packages (from tfds-nightly) (0.21.1)\n",
            "Requirement already satisfied: termcolor in /usr/local/lib/python3.6/dist-packages (from tfds-nightly) (1.1.0)\n",
            "Requirement already satisfied: absl-py in /usr/local/lib/python3.6/dist-packages (from tfds-nightly) (0.9.0)\n",
            "Requirement already satisfied: promise in /usr/local/lib/python3.6/dist-packages (from tfds-nightly) (2.3)\n",
            "Requirement already satisfied: requests>=2.19.0 in /usr/local/lib/python3.6/dist-packages (from tfds-nightly) (2.21.0)\n",
            "Requirement already satisfied: future in /usr/local/lib/python3.6/dist-packages (from tfds-nightly) (0.16.0)\n",
            "Requirement already satisfied: protobuf>=3.6.1 in /usr/local/lib/python3.6/dist-packages (from tfds-nightly) (3.10.0)\n",
            "Requirement already satisfied: numpy in /usr/local/lib/python3.6/dist-packages (from tfds-nightly) (1.18.2)\n",
            "Requirement already satisfied: googleapis-common-protos in /usr/local/lib/python3.6/dist-packages (from tensorflow-metadata->tfds-nightly) (1.51.0)\n",
            "Requirement already satisfied: certifi>=2017.4.17 in /usr/local/lib/python3.6/dist-packages (from requests>=2.19.0->tfds-nightly) (2019.11.28)\n",
            "Requirement already satisfied: idna<2.9,>=2.5 in /usr/local/lib/python3.6/dist-packages (from requests>=2.19.0->tfds-nightly) (2.8)\n",
            "Requirement already satisfied: chardet<3.1.0,>=3.0.2 in /usr/local/lib/python3.6/dist-packages (from requests>=2.19.0->tfds-nightly) (3.0.4)\n",
            "Requirement already satisfied: urllib3<1.25,>=1.21.1 in /usr/local/lib/python3.6/dist-packages (from requests>=2.19.0->tfds-nightly) (1.24.3)\n",
            "Requirement already satisfied: setuptools in /usr/local/lib/python3.6/dist-packages (from protobuf>=3.6.1->tfds-nightly) (46.0.0)\n"
          ],
          "name": "stdout"
        },
        {
          "output_type": "stream",
          "text": [
            "Using TensorFlow backend.\n"
          ],
          "name": "stderr"
        }
      ]
    },
    {
      "cell_type": "code",
      "metadata": {
        "id": "F7qaShKYZbAb",
        "colab_type": "code",
        "colab": {}
      },
      "source": [
        "x = np.array([1, 5])                        # add bias/intercept as first entry\n",
        "w_hidden1 = np.matrix([[-1, 1], [.5, -.5]]) # 2x2 matrix of first-layer biases and weights\n",
        "w_hidden2 = np.matrix([[.3], [.7]])         # 1x2 matrix of second-layer weights\n",
        "w_out = 2                                   # 1x1 scalar of third-layer weights\n",
        "b_out = 0.5                                 # 1x1 scalar of third-layer bias"
      ],
      "execution_count": 0,
      "outputs": []
    },
    {
      "cell_type": "markdown",
      "metadata": {
        "id": "MMRFFW49Zqea",
        "colab_type": "text"
      },
      "source": [
        "Now perform the forward pass."
      ]
    },
    {
      "cell_type": "code",
      "metadata": {
        "id": "WNU-liiGYCjt",
        "colab_type": "code",
        "colab": {}
      },
      "source": [
        "hidden1 = np.matmul(x,w_hidden1)         # perform matrix multiplication to get hidden layer 1\n",
        "hidden2 = np.matmul(hidden1,w_hidden2)   # perform matrix multiplication to get hidden layer 2\n",
        "hidden2_clamped = np.maximum(hidden2, 0) # relu\n",
        "y_hat = hidden2_clamped*w_out + b_out    # perform third multiplication to get output layer"
      ],
      "execution_count": 0,
      "outputs": []
    },
    {
      "cell_type": "markdown",
      "metadata": {
        "id": "JjccTRMqZxx5",
        "colab_type": "text"
      },
      "source": [
        "And let's print the values."
      ]
    },
    {
      "cell_type": "code",
      "metadata": {
        "id": "uBbrhmMxZ00o",
        "colab_type": "code",
        "outputId": "ffd41a81-bf61-4f42-8c4c-e735c29f9198",
        "colab": {
          "base_uri": "https://localhost:8080/",
          "height": 85
        }
      },
      "source": [
        "print('The values for the hidden layer 1 are:', hidden1)\n",
        "print('The values for the hidden layer 2 are:', hidden2)\n",
        "print('The post-relu values for the hidden layer 2 are:', hidden2_clamped)\n",
        "print('The value for the output layer is:', y_hat)"
      ],
      "execution_count": 0,
      "outputs": [
        {
          "output_type": "stream",
          "text": [
            "The values for the hidden layer 1 are: [[ 1.5 -1.5]]\n",
            "The values for the hidden layer 2 are: [[-0.6]]\n",
            "The post-relu values for the hidden layer 2 are: [[0.]]\n",
            "The value for the output layer is: [[0.5]]\n"
          ],
          "name": "stdout"
        }
      ]
    },
    {
      "cell_type": "markdown",
      "metadata": {
        "id": "cvci-2MiZ3Vg",
        "colab_type": "text"
      },
      "source": [
        "Calculate the loss for the training example given a label of Y = 0.25."
      ]
    },
    {
      "cell_type": "code",
      "metadata": {
        "id": "Dtmec9jLZ8Wi",
        "colab_type": "code",
        "outputId": "e79cf3aa-379f-4d9a-9086-8370487d5585",
        "colab": {
          "base_uri": "https://localhost:8080/",
          "height": 34
        }
      },
      "source": [
        "y_i = 0.25 # positive outcome as defined in the problem\n",
        "loss_i = (y_i-y_hat)**2\n",
        "print('The loss is:',loss_i)"
      ],
      "execution_count": 0,
      "outputs": [
        {
          "output_type": "stream",
          "text": [
            "The loss is: [[0.0625]]\n"
          ],
          "name": "stdout"
        }
      ]
    },
    {
      "cell_type": "markdown",
      "metadata": {
        "id": "aJ8qWoFFaDpF",
        "colab_type": "text"
      },
      "source": [
        "Implement a single backward pass of the network. Again use numpy. Start by defining the individual gradient terms."
      ]
    },
    {
      "cell_type": "code",
      "metadata": {
        "id": "ZCP7P1JxaEIP",
        "colab_type": "code",
        "colab": {}
      },
      "source": [
        "# gradient for loss\n",
        "dl_dy = 2*(y_i-y_hat) # gradient of loss wrt predicted probability (1x1)\n",
        "\n",
        "# gradients for output layer\n",
        "dy_dhidden2_clamped = w_out # gradient of y_hat wrt hidden output (1x1)\n",
        "dy_dw_out = hidden2_clamped # gradient of  y_hat wrt output layer weight (1x1)\n",
        "dy_db_out = 1 # gradient of  y_hat wrt output layer bias (1x1)\n",
        "\n",
        "# gradient (gate) for relu\n",
        "dhidden2_clamped_dhidden2 = (hidden2>0)*1 # gradient for relu\n",
        "\n",
        "# gradients for second hidden layer\n",
        "dhidden2_dw_2 = hidden1 # gradient of second hidden layer wrt second hidden layer weights\n",
        "dhidden2_dhidden1 = w_hidden2 # gradient of second hidden layer wrt first hidden layer output\n",
        "\n",
        "# gradients for first hidden layer\n",
        "dhidden1_dw_1 = x # gradient of first hidden layer wrt first hidden layer weights"
      ],
      "execution_count": 0,
      "outputs": []
    },
    {
      "cell_type": "code",
      "metadata": {
        "id": "YfrUZMLJaHSL",
        "colab_type": "code",
        "colab": {}
      },
      "source": [
        "dl_dw_out = dl_dy*dy_dw_out # gradient of loss wrt output weights\n",
        "dl_db_out = dl_dy*1         # gradient of loss wrt output bias\n",
        "dl_dw_2 = dl_dy*dy_dhidden2_clamped*dhidden2_clamped_dhidden2*dhidden2_dw_2                       # gradient of loss wrt second hidden layer weights\n",
        "dl_dw_11 = dl_dy*dy_dhidden2_clamped*dhidden2_clamped_dhidden2*dhidden2_dhidden1[0]*dhidden1_dw_1 # gradient of loss wrt first hidden layer weights (node 1)\n",
        "dl_dw_12 = dl_dy*dy_dhidden2_clamped*dhidden2_clamped_dhidden2*dhidden2_dhidden1[1]*dhidden1_dw_1 # gradient of loss wrt first hidden layer weights (node 2)"
      ],
      "execution_count": 0,
      "outputs": []
    },
    {
      "cell_type": "markdown",
      "metadata": {
        "id": "FsIdzUbEaNNR",
        "colab_type": "text"
      },
      "source": [
        "We see that a maximum of two quantities are needed for each layer: \n",
        "    \n",
        "1. the partial derivative w.r.t. the input\n",
        "2. the partial derivative w.r.t. the weight/parameter\n",
        "    \n",
        "What is the purpose of each of these quantities?\n",
        "\n",
        "    - The partial derivative w.r.t. the input is used in the backprop/chain-rule calculations.\n",
        "    - The partial derivative w.r.t. the parameter/weights is used to update the parameter values in the training loop via gradient descent."
      ]
    }
  ]
}