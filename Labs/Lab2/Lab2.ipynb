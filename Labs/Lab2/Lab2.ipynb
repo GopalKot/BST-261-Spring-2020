{
  "nbformat": 4,
  "nbformat_minor": 0,
  "metadata": {
    "kernelspec": {
      "display_name": "Python 3",
      "language": "python",
      "name": "python3"
    },
    "language_info": {
      "codemirror_mode": {
        "name": "ipython",
        "version": 3
      },
      "file_extension": ".py",
      "mimetype": "text/x-python",
      "name": "python",
      "nbconvert_exporter": "python",
      "pygments_lexer": "ipython3",
      "version": "3.7.4"
    },
    "colab": {
      "name": "Lab2.ipynb",
      "provenance": [],
      "collapsed_sections": []
    }
  },
  "cells": [
    {
      "cell_type": "markdown",
      "metadata": {
        "id": "Xa7m03wXDqPr",
        "colab_type": "text"
      },
      "source": [
        "# Lab #2\n",
        "\n",
        "Today's lab consists of practice questions to review MLPs and convolutional neural networks."
      ]
    },
    {
      "cell_type": "markdown",
      "metadata": {
        "id": "hejoZsPFRjck",
        "colab_type": "text"
      },
      "source": [
        "## Question 1\n",
        "### Classifying newswires: a multi-class classification example\n",
        "In this example we will build a network to classify Reuters newswires into 46 different mutually-exclusive topics. Examples include cocoa, soybeans and livestock. Since we have many classes, this problem is an instance of \"multi-class classification\", and since each data point should be classified into only one category, the problem is more specifically an instance of \"single-label, multi-class classification\". If each data point could have belonged to multiple categories (in our case, topics) then we would be facing a \"multi-label, multi-class classification\" problem.\n",
        "\n",
        "### The Reuters dataset\n",
        "We will be working with the Reuters dataset, a set of short newswires and their topics, published by Reuters in 1986. It's a very simple, widely used toy dataset for text classification. There are 46 different topics; some topics are more represented than others, but each topic has at least 10 examples in the training set.\n",
        "\n",
        "Like IMDB and MNIST, the Reuters dataset comes packaged as part of Keras. Let's take a look:"
      ]
    },
    {
      "cell_type": "code",
      "metadata": {
        "id": "F21qC4YGaD_c",
        "colab_type": "code",
        "outputId": "09ce6d5d-f40d-4bc6-b8a6-11a48107f523",
        "colab": {
          "base_uri": "https://localhost:8080/",
          "height": 478
        }
      },
      "source": [
        "# Load all necessary libraries\n",
        "from __future__ import absolute_import, division, print_function, unicode_literals\n",
        "try:\n",
        "  # %tensorflow_version only exists in Colab.\n",
        "  %tensorflow_version 2.x\n",
        "except Exception:\n",
        "  pass\n",
        "import tensorflow as tf\n",
        "import tensorflow_datasets as tfds\n",
        "!pip install tensorflow-hub\n",
        "!pip install tfds-nightly\n",
        "import tensorflow_hub as hub\n",
        "import numpy as np\n",
        "import keras\n",
        "import pandas as pd\n",
        "from keras.utils import to_categorical"
      ],
      "execution_count": 0,
      "outputs": [
        {
          "output_type": "stream",
          "text": [
            "Requirement already satisfied: tensorflow-hub in /usr/local/lib/python3.6/dist-packages (0.7.0)\n",
            "Requirement already satisfied: numpy>=1.12.0 in /usr/local/lib/python3.6/dist-packages (from tensorflow-hub) (1.18.2)\n",
            "Requirement already satisfied: six>=1.10.0 in /usr/local/lib/python3.6/dist-packages (from tensorflow-hub) (1.12.0)\n",
            "Requirement already satisfied: protobuf>=3.4.0 in /usr/local/lib/python3.6/dist-packages (from tensorflow-hub) (3.10.0)\n",
            "Requirement already satisfied: setuptools in /usr/local/lib/python3.6/dist-packages (from protobuf>=3.4.0->tensorflow-hub) (46.0.0)\n",
            "Requirement already satisfied: tfds-nightly in /usr/local/lib/python3.6/dist-packages (2.1.0.dev202003290105)\n",
            "Requirement already satisfied: tqdm in /usr/local/lib/python3.6/dist-packages (from tfds-nightly) (4.38.0)\n",
            "Requirement already satisfied: promise in /usr/local/lib/python3.6/dist-packages (from tfds-nightly) (2.3)\n",
            "Requirement already satisfied: attrs>=18.1.0 in /usr/local/lib/python3.6/dist-packages (from tfds-nightly) (19.3.0)\n",
            "Requirement already satisfied: protobuf>=3.6.1 in /usr/local/lib/python3.6/dist-packages (from tfds-nightly) (3.10.0)\n",
            "Requirement already satisfied: termcolor in /usr/local/lib/python3.6/dist-packages (from tfds-nightly) (1.1.0)\n",
            "Requirement already satisfied: numpy in /usr/local/lib/python3.6/dist-packages (from tfds-nightly) (1.18.2)\n",
            "Requirement already satisfied: dill in /usr/local/lib/python3.6/dist-packages (from tfds-nightly) (0.3.1.1)\n",
            "Requirement already satisfied: absl-py in /usr/local/lib/python3.6/dist-packages (from tfds-nightly) (0.9.0)\n",
            "Requirement already satisfied: future in /usr/local/lib/python3.6/dist-packages (from tfds-nightly) (0.16.0)\n",
            "Requirement already satisfied: wrapt in /usr/local/lib/python3.6/dist-packages (from tfds-nightly) (1.12.1)\n",
            "Requirement already satisfied: tensorflow-metadata in /usr/local/lib/python3.6/dist-packages (from tfds-nightly) (0.21.1)\n",
            "Requirement already satisfied: six in /usr/local/lib/python3.6/dist-packages (from tfds-nightly) (1.12.0)\n",
            "Requirement already satisfied: requests>=2.19.0 in /usr/local/lib/python3.6/dist-packages (from tfds-nightly) (2.21.0)\n",
            "Requirement already satisfied: setuptools in /usr/local/lib/python3.6/dist-packages (from protobuf>=3.6.1->tfds-nightly) (46.0.0)\n",
            "Requirement already satisfied: googleapis-common-protos in /usr/local/lib/python3.6/dist-packages (from tensorflow-metadata->tfds-nightly) (1.51.0)\n",
            "Requirement already satisfied: idna<2.9,>=2.5 in /usr/local/lib/python3.6/dist-packages (from requests>=2.19.0->tfds-nightly) (2.8)\n",
            "Requirement already satisfied: certifi>=2017.4.17 in /usr/local/lib/python3.6/dist-packages (from requests>=2.19.0->tfds-nightly) (2019.11.28)\n",
            "Requirement already satisfied: chardet<3.1.0,>=3.0.2 in /usr/local/lib/python3.6/dist-packages (from requests>=2.19.0->tfds-nightly) (3.0.4)\n",
            "Requirement already satisfied: urllib3<1.25,>=1.21.1 in /usr/local/lib/python3.6/dist-packages (from requests>=2.19.0->tfds-nightly) (1.24.3)\n"
          ],
          "name": "stdout"
        },
        {
          "output_type": "stream",
          "text": [
            "Using TensorFlow backend.\n"
          ],
          "name": "stderr"
        }
      ]
    },
    {
      "cell_type": "code",
      "metadata": {
        "id": "2bj-8a5pSHrP",
        "colab_type": "code",
        "colab": {}
      },
      "source": [
        "from keras.datasets import reuters\n",
        "\n",
        "(train_data, train_labels), (test_data, test_labels) = reuters.load_data(num_words=10000)"
      ],
      "execution_count": 0,
      "outputs": []
    },
    {
      "cell_type": "markdown",
      "metadata": {
        "id": "IeKpfUp4SM7R",
        "colab_type": "text"
      },
      "source": [
        "\n",
        "Like with the IMDB dataset, the argument `num_words=10000` restricts the data to the 10,000 most frequently occurring words found in the data.\n",
        "\n",
        "We have 8,982 training examples and 2,246 test examples:"
      ]
    },
    {
      "cell_type": "code",
      "metadata": {
        "id": "20B91L0uSQ_N",
        "colab_type": "code",
        "outputId": "d15a785c-ebfb-47d7-f94e-20693412f9c8",
        "colab": {
          "base_uri": "https://localhost:8080/",
          "height": 34
        }
      },
      "source": [
        "len(train_data)"
      ],
      "execution_count": 0,
      "outputs": [
        {
          "output_type": "execute_result",
          "data": {
            "text/plain": [
              "8982"
            ]
          },
          "metadata": {
            "tags": []
          },
          "execution_count": 3
        }
      ]
    },
    {
      "cell_type": "code",
      "metadata": {
        "id": "5Jv5QgpnSTR5",
        "colab_type": "code",
        "outputId": "36018b43-e225-43de-b6fc-ab9c80ebfbe6",
        "colab": {
          "base_uri": "https://localhost:8080/",
          "height": 34
        }
      },
      "source": [
        "len(test_data)"
      ],
      "execution_count": 0,
      "outputs": [
        {
          "output_type": "execute_result",
          "data": {
            "text/plain": [
              "2246"
            ]
          },
          "metadata": {
            "tags": []
          },
          "execution_count": 4
        }
      ]
    },
    {
      "cell_type": "markdown",
      "metadata": {
        "id": "gyEQIdwGSWiA",
        "colab_type": "text"
      },
      "source": [
        "As with the IMDB reviews, each example is a list of integers (word indices):"
      ]
    },
    {
      "cell_type": "code",
      "metadata": {
        "id": "39RJvzpHSWq5",
        "colab_type": "code",
        "outputId": "c9ce5064-1b7d-4b6f-8c99-0a7d22d03e3c",
        "colab": {
          "base_uri": "https://localhost:8080/",
          "height": 567
        }
      },
      "source": [
        "train_data[10]"
      ],
      "execution_count": 0,
      "outputs": [
        {
          "output_type": "execute_result",
          "data": {
            "text/plain": [
              "[1,\n",
              " 245,\n",
              " 273,\n",
              " 207,\n",
              " 156,\n",
              " 53,\n",
              " 74,\n",
              " 160,\n",
              " 26,\n",
              " 14,\n",
              " 46,\n",
              " 296,\n",
              " 26,\n",
              " 39,\n",
              " 74,\n",
              " 2979,\n",
              " 3554,\n",
              " 14,\n",
              " 46,\n",
              " 4689,\n",
              " 4329,\n",
              " 86,\n",
              " 61,\n",
              " 3499,\n",
              " 4795,\n",
              " 14,\n",
              " 61,\n",
              " 451,\n",
              " 4329,\n",
              " 17,\n",
              " 12]"
            ]
          },
          "metadata": {
            "tags": []
          },
          "execution_count": 5
        }
      ]
    },
    {
      "cell_type": "markdown",
      "metadata": {
        "id": "C0OquFanSbQF",
        "colab_type": "text"
      },
      "source": [
        "Here's how you can decode it back to words, in case you are curious:"
      ]
    },
    {
      "cell_type": "code",
      "metadata": {
        "id": "V4iPPKqRSbZ4",
        "colab_type": "code",
        "colab": {}
      },
      "source": [
        "word_index = reuters.get_word_index()\n",
        "reverse_word_index = dict([(value, key) for (key, value) in word_index.items()])\n",
        "# Note that our indices were offset by 3\n",
        "# because 0, 1 and 2 are reserved indices for \"padding\", \"start of sequence\", and \"unknown\".\n",
        "decoded_newswire = ' '.join([reverse_word_index.get(i - 3, '?') for i in train_data[0]])"
      ],
      "execution_count": 0,
      "outputs": []
    },
    {
      "cell_type": "code",
      "metadata": {
        "id": "7m3ibg4OShQN",
        "colab_type": "code",
        "outputId": "67319c4a-3b16-4ba1-ef43-5d885c8aa295",
        "colab": {
          "base_uri": "https://localhost:8080/",
          "height": 54
        }
      },
      "source": [
        "decoded_newswire"
      ],
      "execution_count": 0,
      "outputs": [
        {
          "output_type": "execute_result",
          "data": {
            "text/plain": [
              "'? ? ? said as a result of its december acquisition of space co it expects earnings per share in 1987 of 1 15 to 1 30 dlrs per share up from 70 cts in 1986 the company said pretax net should rise to nine to 10 mln dlrs from six mln dlrs in 1986 and rental operation revenues to 19 to 22 mln dlrs from 12 5 mln dlrs it said cash flow per share this year should be 2 50 to three dlrs reuter 3'"
            ]
          },
          "metadata": {
            "tags": []
          },
          "execution_count": 7
        }
      ]
    },
    {
      "cell_type": "markdown",
      "metadata": {
        "id": "xQcVuTS4SksC",
        "colab_type": "text"
      },
      "source": [
        "The label associated with an example is an integer between 0 and 45: a topic index."
      ]
    },
    {
      "cell_type": "code",
      "metadata": {
        "id": "a1tuutnKSkzc",
        "colab_type": "code",
        "outputId": "31c5f068-71b8-4b04-83cc-1cd333ad669c",
        "colab": {
          "base_uri": "https://localhost:8080/",
          "height": 34
        }
      },
      "source": [
        "train_labels[10]"
      ],
      "execution_count": 0,
      "outputs": [
        {
          "output_type": "execute_result",
          "data": {
            "text/plain": [
              "3"
            ]
          },
          "metadata": {
            "tags": []
          },
          "execution_count": 8
        }
      ]
    },
    {
      "cell_type": "markdown",
      "metadata": {
        "id": "Bgl31PVUUb8D",
        "colab_type": "text"
      },
      "source": [
        "### Preparing the data\n",
        "We can vectorize the data with the exact same code as in our previous example:"
      ]
    },
    {
      "cell_type": "code",
      "metadata": {
        "id": "SQKJUf4BUdWA",
        "colab_type": "code",
        "colab": {}
      },
      "source": [
        "import numpy as np\n",
        "\n",
        "def vectorize_sequences(sequences, dimension=10000):\n",
        "    results = np.zeros((len(sequences), dimension))\n",
        "    for i, sequence in enumerate(sequences):\n",
        "        results[i, sequence] = 1.\n",
        "    return results\n",
        "\n",
        "# Our vectorized training data\n",
        "x_train = vectorize_sequences(train_data)\n",
        "# Our vectorized test data\n",
        "x_test = vectorize_sequences(test_data)"
      ],
      "execution_count": 0,
      "outputs": []
    },
    {
      "cell_type": "markdown",
      "metadata": {
        "id": "HjfJwkyNUiBA",
        "colab_type": "text"
      },
      "source": [
        "To vectorize the labels, there are two possibilities: we could just cast the label list as an integer tensor, or we could use a \"one-hot\" encoding. One-hot encoding is a widely used format for categorical data, also called \"categorical encoding\". For a more detailed explanation of one-hot encoding, you can refer to Chapter 6, Section 1 in [Deep Learning with Python](https://www.manning.com/books/deep-learning-with-python). In our case, one-hot encoding of our labels consists in embedding each label as an all-zero vector with a 1 in the place of the label index, e.g.:"
      ]
    },
    {
      "cell_type": "code",
      "metadata": {
        "id": "WTo5jwwCUiJl",
        "colab_type": "code",
        "colab": {}
      },
      "source": [
        "def to_one_hot(labels, dimension=46):\n",
        "    results = np.zeros((len(labels), dimension))\n",
        "    for i, label in enumerate(labels):\n",
        "        results[i, label] = 1.\n",
        "    return results\n",
        "\n",
        "# Our vectorized training labels\n",
        "one_hot_train_labels = to_one_hot(train_labels)\n",
        "# Our vectorized test labels\n",
        "one_hot_test_labels = to_one_hot(test_labels)"
      ],
      "execution_count": 0,
      "outputs": []
    },
    {
      "cell_type": "markdown",
      "metadata": {
        "id": "DP6WFacpUn1J",
        "colab_type": "text"
      },
      "source": [
        "Note that there is a built-in way to do this in Keras, which you have already seen in action in our MNIST example:"
      ]
    },
    {
      "cell_type": "code",
      "metadata": {
        "id": "CurEVzaWUn9c",
        "colab_type": "code",
        "colab": {}
      },
      "source": [
        "from keras.utils.np_utils import to_categorical\n",
        "\n",
        "one_hot_train_labels = to_categorical(train_labels)\n",
        "one_hot_test_labels = to_categorical(test_labels)"
      ],
      "execution_count": 0,
      "outputs": []
    },
    {
      "cell_type": "markdown",
      "metadata": {
        "id": "xkgvTFgEUraG",
        "colab_type": "text"
      },
      "source": [
        "### Building our network\n",
        "This topic classification problem looks very similar to our previous movie review classification problem: in both cases, we are trying to classify short snippets of text. There is however a new constraint here: the number of output classes has gone from 2 to 46, i.e. the dimensionality of the output space is much larger.\n",
        "\n",
        "In a stack of `Dense` layers like what we were using, each layer can only access information present in the output of the previous layer. If one layer drops some information relevant to the classification problem, this information can never be recovered by later layers: each layer can potentially become an \"information bottleneck\". In our previous example, we were using 16-dimensional intermediate layers, but a 16-dimensional space may be too limited to learn to separate 46 different classes: such small layers may act as information bottlenecks, permanently dropping relevant information. For this reason we will use larger layers. \n",
        "\n",
        "Build a networks with 2 hidden layers, each with 64 hidden units, and an appropriate output layer. Remember to include the correct `input_shape` in the first hidden layer."
      ]
    },
    {
      "cell_type": "code",
      "metadata": {
        "id": "MizNFbsLUrh_",
        "colab_type": "code",
        "colab": {}
      },
      "source": [
        "# Define model\n"
      ],
      "execution_count": 0,
      "outputs": []
    },
    {
      "cell_type": "markdown",
      "metadata": {
        "id": "LranuTl_U10d",
        "colab_type": "text"
      },
      "source": [
        "Code the `model.compile` function with `rmsprop` optimizer, `accuracy` performance metric and appropriate loss function."
      ]
    },
    {
      "cell_type": "code",
      "metadata": {
        "id": "tdi3F-1wU18H",
        "colab_type": "code",
        "colab": {}
      },
      "source": [
        "# Define how to execute training\n"
      ],
      "execution_count": 0,
      "outputs": []
    },
    {
      "cell_type": "markdown",
      "metadata": {
        "id": "8UjL7xwcU7vM",
        "colab_type": "text"
      },
      "source": [
        "### Validating our approach\n",
        "Let's set apart 1,000 samples in our training data to use as a validation set:"
      ]
    },
    {
      "cell_type": "code",
      "metadata": {
        "id": "wMTJ3h9QU73v",
        "colab_type": "code",
        "colab": {}
      },
      "source": [
        "x_val = x_train[:1000]\n",
        "partial_x_train = x_train[1000:]\n",
        "\n",
        "y_val = one_hot_train_labels[:1000]\n",
        "partial_y_train = one_hot_train_labels[1000:]"
      ],
      "execution_count": 0,
      "outputs": []
    },
    {
      "cell_type": "markdown",
      "metadata": {
        "id": "4GrP5GtKVENc",
        "colab_type": "text"
      },
      "source": [
        "Train the network for 20 epochs with a batch size of 512. Be sure to make use of the validation set."
      ]
    },
    {
      "cell_type": "code",
      "metadata": {
        "id": "XPkvsbymVEVf",
        "colab_type": "code",
        "outputId": "d2390ec2-2f75-4348-9eb0-89d00fc9b2ca",
        "colab": {
          "base_uri": "https://localhost:8080/",
          "height": 727
        }
      },
      "source": [
        "# Your code here"
      ],
      "execution_count": 0,
      "outputs": [
        {
          "output_type": "stream",
          "text": [
            "Epoch 1/20\n",
            "16/16 [==============================] - 1s 41ms/step - loss: 0.0562 - accuracy: 0.9632 - val_loss: 2.7034 - val_accuracy: 0.7570\n",
            "Epoch 2/20\n",
            "16/16 [==============================] - 1s 40ms/step - loss: 0.0588 - accuracy: 0.9594 - val_loss: 2.6451 - val_accuracy: 0.7610\n",
            "Epoch 3/20\n",
            "16/16 [==============================] - 1s 42ms/step - loss: 0.0583 - accuracy: 0.9594 - val_loss: 2.7413 - val_accuracy: 0.7610\n",
            "Epoch 4/20\n",
            "16/16 [==============================] - 1s 41ms/step - loss: 0.0588 - accuracy: 0.9588 - val_loss: 2.7809 - val_accuracy: 0.7640\n",
            "Epoch 5/20\n",
            "16/16 [==============================] - 1s 40ms/step - loss: 0.0579 - accuracy: 0.9573 - val_loss: 2.8062 - val_accuracy: 0.7640\n",
            "Epoch 6/20\n",
            "16/16 [==============================] - 1s 41ms/step - loss: 0.0579 - accuracy: 0.9599 - val_loss: 2.9293 - val_accuracy: 0.7550\n",
            "Epoch 7/20\n",
            "16/16 [==============================] - 1s 40ms/step - loss: 0.0579 - accuracy: 0.9597 - val_loss: 2.8370 - val_accuracy: 0.7620\n",
            "Epoch 8/20\n",
            "16/16 [==============================] - 1s 41ms/step - loss: 0.0578 - accuracy: 0.9607 - val_loss: 2.8970 - val_accuracy: 0.7710\n",
            "Epoch 9/20\n",
            "16/16 [==============================] - 1s 43ms/step - loss: 0.0569 - accuracy: 0.9602 - val_loss: 2.9446 - val_accuracy: 0.7670\n",
            "Epoch 10/20\n",
            "16/16 [==============================] - 1s 40ms/step - loss: 0.0565 - accuracy: 0.9607 - val_loss: 3.0078 - val_accuracy: 0.7590\n",
            "Epoch 11/20\n",
            "16/16 [==============================] - 1s 40ms/step - loss: 0.0567 - accuracy: 0.9592 - val_loss: 2.8937 - val_accuracy: 0.7650\n",
            "Epoch 12/20\n",
            "16/16 [==============================] - 1s 41ms/step - loss: 0.0577 - accuracy: 0.9570 - val_loss: 3.0121 - val_accuracy: 0.7550\n",
            "Epoch 13/20\n",
            "16/16 [==============================] - 1s 41ms/step - loss: 0.0564 - accuracy: 0.9602 - val_loss: 3.0878 - val_accuracy: 0.7570\n",
            "Epoch 14/20\n",
            "16/16 [==============================] - 1s 40ms/step - loss: 0.0574 - accuracy: 0.9600 - val_loss: 2.9744 - val_accuracy: 0.7660\n",
            "Epoch 15/20\n",
            "16/16 [==============================] - 1s 40ms/step - loss: 0.0575 - accuracy: 0.9589 - val_loss: 2.9883 - val_accuracy: 0.7630\n",
            "Epoch 16/20\n",
            "16/16 [==============================] - 1s 41ms/step - loss: 0.0563 - accuracy: 0.9587 - val_loss: 3.1453 - val_accuracy: 0.7620\n",
            "Epoch 17/20\n",
            "16/16 [==============================] - 1s 40ms/step - loss: 0.0563 - accuracy: 0.9605 - val_loss: 3.0620 - val_accuracy: 0.7630\n",
            "Epoch 18/20\n",
            "16/16 [==============================] - 1s 40ms/step - loss: 0.0555 - accuracy: 0.9595 - val_loss: 3.1055 - val_accuracy: 0.7630\n",
            "Epoch 19/20\n",
            "16/16 [==============================] - 1s 40ms/step - loss: 0.0561 - accuracy: 0.9602 - val_loss: 3.1385 - val_accuracy: 0.7630\n",
            "Epoch 20/20\n",
            "16/16 [==============================] - 1s 40ms/step - loss: 0.0562 - accuracy: 0.9595 - val_loss: 3.1668 - val_accuracy: 0.7610\n"
          ],
          "name": "stdout"
        }
      ]
    },
    {
      "cell_type": "markdown",
      "metadata": {
        "id": "5an-LHCrVL0F",
        "colab_type": "text"
      },
      "source": [
        "\n",
        "Display its loss and accuracy curves."
      ]
    },
    {
      "cell_type": "code",
      "metadata": {
        "id": "P0BQ_2dwVL8t",
        "colab_type": "code",
        "colab": {}
      },
      "source": [
        "import matplotlib.pyplot as plt\n",
        "%matplotlib inline\n",
        "import seaborn as sns\n",
        "sns.set()\n",
        "\n",
        "# Your code here"
      ],
      "execution_count": 0,
      "outputs": []
    },
    {
      "cell_type": "code",
      "metadata": {
        "id": "PmU5zwtDbs4S",
        "colab_type": "code",
        "outputId": "e096b202-9dc1-4ed4-d5ca-979d7c4ec0ed",
        "colab": {
          "base_uri": "https://localhost:8080/",
          "height": 302
        }
      },
      "source": [
        "# Your code here"
      ],
      "execution_count": 0,
      "outputs": [
        {
          "output_type": "execute_result",
          "data": {
            "text/plain": [
              "<matplotlib.legend.Legend at 0x7f360c30ed30>"
            ]
          },
          "metadata": {
            "tags": []
          },
          "execution_count": 26
        },
        {
          "output_type": "display_data",
          "data": {
            "image/png": "[encoded data removed]",
            "text/plain": [
              "<Figure size 432x288 with 1 Axes>"
            ]
          },
          "metadata": {
            "tags": []
          }
        }
      ]
    },
    {
      "cell_type": "code",
      "metadata": {
        "id": "gN_6FsOBVRNG",
        "colab_type": "code",
        "outputId": "b466220a-68df-4bef-fb0f-a49377c10b11",
        "colab": {
          "base_uri": "https://localhost:8080/",
          "height": 302
        }
      },
      "source": [
        "# Your code here"
      ],
      "execution_count": 0,
      "outputs": [
        {
          "output_type": "execute_result",
          "data": {
            "text/plain": [
              "<matplotlib.legend.Legend at 0x7f360c672470>"
            ]
          },
          "metadata": {
            "tags": []
          },
          "execution_count": 27
        },
        {
          "output_type": "display_data",
          "data": {
            "image/png": "[encoded data removed]",
            "text/plain": [
              "<Figure size 432x288 with 1 Axes>"
            ]
          },
          "metadata": {
            "tags": []
          }
        }
      ]
    },
    {
      "cell_type": "markdown",
      "metadata": {
        "id": "s5jqIjbAVXJj",
        "colab_type": "text"
      },
      "source": [
        "It seems that the network starts overfitting after 8 epochs. Train a new network from scratch for 8 epochs, then evaluate it on the test set."
      ]
    },
    {
      "cell_type": "code",
      "metadata": {
        "id": "vPa6z15XVXRX",
        "colab_type": "code",
        "outputId": "b9ef1a62-115c-4034-9201-e9873125e8b3",
        "colab": {
          "base_uri": "https://localhost:8080/",
          "height": 318
        }
      },
      "source": [
        "# Your code here"
      ],
      "execution_count": 0,
      "outputs": [
        {
          "output_type": "stream",
          "text": [
            "Epoch 1/8\n",
            "16/16 [==============================] - 1s 44ms/step - loss: 2.5944 - accuracy: 0.5056 - val_loss: 1.7383 - val_accuracy: 0.6470\n",
            "Epoch 2/8\n",
            "16/16 [==============================] - 1s 40ms/step - loss: 1.4080 - accuracy: 0.7083 - val_loss: 1.2891 - val_accuracy: 0.7210\n",
            "Epoch 3/8\n",
            "16/16 [==============================] - 1s 42ms/step - loss: 1.0344 - accuracy: 0.7813 - val_loss: 1.1196 - val_accuracy: 0.7550\n",
            "Epoch 4/8\n",
            "16/16 [==============================] - 1s 42ms/step - loss: 0.8158 - accuracy: 0.8260 - val_loss: 1.0138 - val_accuracy: 0.7780\n",
            "Epoch 5/8\n",
            "16/16 [==============================] - 1s 42ms/step - loss: 0.6507 - accuracy: 0.8614 - val_loss: 0.9525 - val_accuracy: 0.8130\n",
            "Epoch 6/8\n",
            "16/16 [==============================] - 1s 43ms/step - loss: 0.5151 - accuracy: 0.8943 - val_loss: 0.9214 - val_accuracy: 0.8080\n",
            "Epoch 7/8\n",
            "16/16 [==============================] - 1s 42ms/step - loss: 0.4176 - accuracy: 0.9124 - val_loss: 0.8907 - val_accuracy: 0.8200\n",
            "Epoch 8/8\n",
            "16/16 [==============================] - 1s 39ms/step - loss: 0.3397 - accuracy: 0.9270 - val_loss: 0.8960 - val_accuracy: 0.8230\n",
            "71/71 [==============================] - 0s 2ms/step - loss: 1.0254 - accuracy: 0.7885\n"
          ],
          "name": "stdout"
        }
      ]
    },
    {
      "cell_type": "code",
      "metadata": {
        "id": "ck2aDq1HVghr",
        "colab_type": "code",
        "outputId": "eeeafd7e-0e11-418e-92eb-bd5ee547b33e",
        "colab": {
          "base_uri": "https://localhost:8080/",
          "height": 34
        }
      },
      "source": [
        "results = model.evaluate(x_test, one_hot_test_labels)\n",
        "results"
      ],
      "execution_count": 0,
      "outputs": [
        {
          "output_type": "execute_result",
          "data": {
            "text/plain": [
              "[1.0254045724868774, 0.7885128855705261]"
            ]
          },
          "metadata": {
            "tags": []
          },
          "execution_count": 29
        }
      ]
    },
    {
      "cell_type": "markdown",
      "metadata": {
        "id": "HAqekri9VkVV",
        "colab_type": "text"
      },
      "source": [
        "Our approach reaches an accuracy of ~78%. With a balanced binary classification problem, the accuracy reached by a purely random classifier would be 50%, but in our case it is closer to 19%, so our results seem pretty good, at least when compared to a random baseline:"
      ]
    },
    {
      "cell_type": "code",
      "metadata": {
        "id": "rPbrANxJVkwh",
        "colab_type": "code",
        "outputId": "9f92bc14-0f43-4891-fab3-831b0bb482dc",
        "colab": {
          "base_uri": "https://localhost:8080/",
          "height": 34
        }
      },
      "source": [
        "import copy\n",
        "\n",
        "test_labels_copy = copy.copy(test_labels)\n",
        "np.random.shuffle(test_labels_copy)\n",
        "float(np.sum(np.array(test_labels) == np.array(test_labels_copy))) / len(test_labels)"
      ],
      "execution_count": 0,
      "outputs": [
        {
          "output_type": "execute_result",
          "data": {
            "text/plain": [
              "0.18833481745325023"
            ]
          },
          "metadata": {
            "tags": []
          },
          "execution_count": 30
        }
      ]
    },
    {
      "cell_type": "markdown",
      "metadata": {
        "id": "ACx1ah7ZVrZb",
        "colab_type": "text"
      },
      "source": [
        "### On the importance of having sufficiently large intermediate layers\n",
        "We mentioned earlier that since our final outputs were 46-dimensional, we should avoid intermediate layers with much less than 46 hidden units. See what happens when you introduce an information bottleneck by setting the number of nodes in the second hidden layer to 4."
      ]
    },
    {
      "cell_type": "code",
      "metadata": {
        "id": "iMc7LyNpV6M7",
        "colab_type": "code",
        "outputId": "1dfd8f93-f41c-4581-f2e7-2ed76b40ccff",
        "colab": {
          "base_uri": "https://localhost:8080/",
          "height": 745
        }
      },
      "source": [
        "# Your code here"
      ],
      "execution_count": 0,
      "outputs": [
        {
          "output_type": "stream",
          "text": [
            "Epoch 1/20\n",
            "16/16 [==============================] - 1s 54ms/step - loss: 3.4414 - accuracy: 0.1339 - val_loss: 3.1403 - val_accuracy: 0.2360\n",
            "Epoch 2/20\n",
            "16/16 [==============================] - 1s 39ms/step - loss: 2.9230 - accuracy: 0.2481 - val_loss: 2.7309 - val_accuracy: 0.2450\n",
            "Epoch 3/20\n",
            "16/16 [==============================] - 1s 41ms/step - loss: 2.5123 - accuracy: 0.2978 - val_loss: 2.3685 - val_accuracy: 0.4960\n",
            "Epoch 4/20\n",
            "16/16 [==============================] - 1s 42ms/step - loss: 2.1581 - accuracy: 0.5436 - val_loss: 2.0670 - val_accuracy: 0.5470\n",
            "Epoch 5/20\n",
            "16/16 [==============================] - 1s 40ms/step - loss: 1.8667 - accuracy: 0.5599 - val_loss: 1.8549 - val_accuracy: 0.5530\n",
            "Epoch 6/20\n",
            "16/16 [==============================] - 1s 39ms/step - loss: 1.6789 - accuracy: 0.5682 - val_loss: 1.7501 - val_accuracy: 0.5540\n",
            "Epoch 7/20\n",
            "16/16 [==============================] - 1s 39ms/step - loss: 1.5649 - accuracy: 0.5727 - val_loss: 1.6590 - val_accuracy: 0.5600\n",
            "Epoch 8/20\n",
            "16/16 [==============================] - 1s 39ms/step - loss: 1.4774 - accuracy: 0.5760 - val_loss: 1.6036 - val_accuracy: 0.5620\n",
            "Epoch 9/20\n",
            "16/16 [==============================] - 1s 40ms/step - loss: 1.3963 - accuracy: 0.5862 - val_loss: 1.5806 - val_accuracy: 0.5680\n",
            "Epoch 10/20\n",
            "16/16 [==============================] - 1s 40ms/step - loss: 1.3237 - accuracy: 0.6120 - val_loss: 1.5484 - val_accuracy: 0.5800\n",
            "Epoch 11/20\n",
            "16/16 [==============================] - 1s 40ms/step - loss: 1.2650 - accuracy: 0.6314 - val_loss: 1.5109 - val_accuracy: 0.6120\n",
            "Epoch 12/20\n",
            "16/16 [==============================] - 1s 40ms/step - loss: 1.2069 - accuracy: 0.6611 - val_loss: 1.4904 - val_accuracy: 0.6210\n",
            "Epoch 13/20\n",
            "16/16 [==============================] - 1s 40ms/step - loss: 1.1563 - accuracy: 0.6883 - val_loss: 1.4739 - val_accuracy: 0.6370\n",
            "Epoch 14/20\n",
            "16/16 [==============================] - 1s 41ms/step - loss: 1.1120 - accuracy: 0.7115 - val_loss: 1.4794 - val_accuracy: 0.6420\n",
            "Epoch 15/20\n",
            "16/16 [==============================] - 1s 40ms/step - loss: 1.0694 - accuracy: 0.7238 - val_loss: 1.4831 - val_accuracy: 0.6490\n",
            "Epoch 16/20\n",
            "16/16 [==============================] - 1s 40ms/step - loss: 1.0317 - accuracy: 0.7337 - val_loss: 1.4682 - val_accuracy: 0.6610\n",
            "Epoch 17/20\n",
            "16/16 [==============================] - 1s 40ms/step - loss: 0.9995 - accuracy: 0.7389 - val_loss: 1.4678 - val_accuracy: 0.6550\n",
            "Epoch 18/20\n",
            "16/16 [==============================] - 1s 39ms/step - loss: 0.9652 - accuracy: 0.7428 - val_loss: 1.4640 - val_accuracy: 0.6580\n",
            "Epoch 19/20\n",
            "16/16 [==============================] - 1s 41ms/step - loss: 0.9336 - accuracy: 0.7466 - val_loss: 1.4683 - val_accuracy: 0.6640\n",
            "Epoch 20/20\n",
            "16/16 [==============================] - 1s 39ms/step - loss: 0.9017 - accuracy: 0.7508 - val_loss: 1.4816 - val_accuracy: 0.6630\n"
          ],
          "name": "stdout"
        },
        {
          "output_type": "execute_result",
          "data": {
            "text/plain": [
              "<tensorflow.python.keras.callbacks.History at 0x7f360c2ba4e0>"
            ]
          },
          "metadata": {
            "tags": []
          },
          "execution_count": 31
        }
      ]
    },
    {
      "cell_type": "markdown",
      "metadata": {
        "id": "R_5ACNQHVgqk",
        "colab_type": "text"
      },
      "source": [
        "Our network now seems to peak at ~66% test accuracy, a 12% absolute drop. This drop is mostly due to the fact that we are now trying to compress a lot of information (enough information to recover the separation hyperplanes of 46 classes) into an intermediate space that is too low-dimensional. The network is able to cram most of the necessary information into these 8-dimensional representations, but not all of it.\n",
        "\n",
        "### Further experiments\n",
        "1. Try using larger or smaller layers: 32 units, 128 units...\n",
        "2. We were using two hidden layers. Now try to use a single hidden layer, or three hidden layers."
      ]
    }
  ]
}