{
  "nbformat": 4,
  "nbformat_minor": 0,
  "metadata": {
    "kernelspec": {
      "display_name": "Python 3",
      "language": "python",
      "name": "python3"
    },
    "language_info": {
      "codemirror_mode": {
        "name": "ipython",
        "version": 3
      },
      "file_extension": ".py",
      "mimetype": "text/x-python",
      "name": "python",
      "nbconvert_exporter": "python",
      "pygments_lexer": "ipython3",
      "version": "3.7.4"
    },
    "colab": {
      "name": "Lab3.ipynb",
      "provenance": [],
      "collapsed_sections": []
    }
  },
  "cells": [
    {
      "cell_type": "markdown",
      "metadata": {
        "id": "Xa7m03wXDqPr",
        "colab_type": "text"
      },
      "source": [
        "# Lab #3\n",
        "\n",
        "Today will be an introduction to coding convolutional neural networks (CNNs)."
      ]
    },
    {
      "cell_type": "markdown",
      "metadata": {
        "id": "p4uAxpgMEiON",
        "colab_type": "text"
      },
      "source": [
        "## Question 1: Classifying Digits\n",
        "Let's revisit the MNIST dataset and build a CNN classifier.\n",
        "\n",
        "Load the MNIST dataset provided by keras. This contains 60,000 28x28 grayscale images of the 10 digits, along with a test set of 10,000 images. Split the data into training and testing sets."
      ]
    },
    {
      "cell_type": "code",
      "metadata": {
        "id": "kj86c3dODAq0",
        "colab_type": "code",
        "outputId": "6e319517-3b56-4f41-ba0e-1cd3d78ef9c5",
        "colab": {
          "base_uri": "https://localhost:8080/",
          "height": 34
        }
      },
      "source": [
        "import numpy as np\n",
        "from sklearn.decomposition import PCA\n",
        "import matplotlib\n",
        "import matplotlib.pyplot as plt\n",
        "import os\n",
        "\n",
        "# Import the TF V2 through this magic command\n",
        "%tensorflow_version 2.x\n",
        "\n",
        "import tensorflow as tf\n",
        "import tensorflow.keras\n",
        "from tensorflow.keras import backend as K\n",
        "\n",
        "# Check the Version of the Tensor Flow. It should be the version 2\n",
        "print(tf.__version__)"
      ],
      "execution_count": 0,
      "outputs": [
        {
          "output_type": "stream",
          "text": [
            "2.2.0-rc2\n"
          ],
          "name": "stdout"
        }
      ]
    },
    {
      "cell_type": "code",
      "metadata": {
        "id": "yiRdPoMpDy4M",
        "colab_type": "code",
        "outputId": "dfb637b6-548f-4500-e309-d101578bc36a",
        "colab": {
          "base_uri": "https://localhost:8080/",
          "height": 70
        }
      },
      "source": [
        "# Load the data\n",
        "from keras.datasets import mnist\n",
        "\n",
        "(x_train, y_train), (x_test, y_test) = mnist.load_data()"
      ],
      "execution_count": 0,
      "outputs": [
        {
          "output_type": "stream",
          "text": [
            "Using TensorFlow backend.\n"
          ],
          "name": "stderr"
        },
        {
          "output_type": "stream",
          "text": [
            "Downloading data from https://s3.amazonaws.com/img-datasets/mnist.npz\n",
            "11493376/11490434 [==============================] - 0s 0us/step\n"
          ],
          "name": "stdout"
        }
      ]
    },
    {
      "cell_type": "markdown",
      "metadata": {
        "id": "zGEP12vLEuoD",
        "colab_type": "text"
      },
      "source": [
        "Print the shape of the training and testing datasets."
      ]
    },
    {
      "cell_type": "code",
      "metadata": {
        "id": "fT4zNbguEuw-",
        "colab_type": "code",
        "outputId": "4c473776-3a33-49e6-d56d-d5d7b708d16f",
        "colab": {
          "base_uri": "https://localhost:8080/",
          "height": 52
        }
      },
      "source": [
        "# Your code here"
      ],
      "execution_count": 0,
      "outputs": [
        {
          "output_type": "stream",
          "text": [
            "(60000, 28, 28)\n",
            "(10000, 28, 28)\n"
          ],
          "name": "stdout"
        }
      ]
    },
    {
      "cell_type": "markdown",
      "metadata": {
        "id": "Dc5o3N2KE1My",
        "colab_type": "text"
      },
      "source": [
        "Let's reshape the data to fit the keras format. Don't worry too much about this chunk for now.\n",
        "\n"
      ]
    },
    {
      "cell_type": "code",
      "metadata": {
        "id": "rnMbxh6hE1Wm",
        "colab_type": "code",
        "colab": {}
      },
      "source": [
        "from keras import backend as K\n",
        "if K.image_data_format() == 'channels_first':\n",
        "    x_train = x_train.reshape(x_train.shape[0], 1, 28, 28)\n",
        "    x_test = x_test.reshape(x_test.shape[0], 1, 28, 28)\n",
        "    input_shape = (1, 28, 28)\n",
        "else:\n",
        "    x_train = x_train.reshape(x_train.shape[0], 28, 28, 1)\n",
        "    x_test = x_test.reshape(x_test.shape[0], 28, 28, 1)\n",
        "    input_shape = (28, 28, 1)"
      ],
      "execution_count": 0,
      "outputs": []
    },
    {
      "cell_type": "markdown",
      "metadata": {
        "id": "VeAWfpJjE1d0",
        "colab_type": "text"
      },
      "source": [
        "Now print the shape again to see what changed.\n",
        "\n"
      ]
    },
    {
      "cell_type": "code",
      "metadata": {
        "id": "TA81AvJvE1lf",
        "colab_type": "code",
        "outputId": "010e4f2e-7716-4fa5-933e-7fff2f68b9ca",
        "colab": {
          "base_uri": "https://localhost:8080/",
          "height": 52
        }
      },
      "source": [
        "# Your code here"
      ],
      "execution_count": 0,
      "outputs": [
        {
          "output_type": "stream",
          "text": [
            "(60000, 28, 28, 1)\n",
            "(10000, 28, 28, 1)\n"
          ],
          "name": "stdout"
        }
      ]
    },
    {
      "cell_type": "markdown",
      "metadata": {
        "id": "z6pwQ-W7E1s_",
        "colab_type": "text"
      },
      "source": [
        "Question 2 in Homework 1 asks you to train a neural network on the Boston housing data. This dataset contains features on very different scales (for example there are both binary features and real-valued features). While the MNIST features take on values between 0 and 1 and do not need to be normalized, we will go through the exercise of normalizing the values before training our network.\n",
        "\n",
        "Can you think of other algorithms in which normalization is necessary? Is it necessary in the case of neural networks? Why or why not?\n",
        "\n",
        "- Clustering, PCA, random forest, etc. Not necessary (universal function approximator) but makes training easier in cases in which the features have very different scales. \n",
        "\n",
        "\n",
        "Normalize the data. Be sure to normalize the test set with the training set mean and standard deviation. Don't forget to convert the training and testing sets to `float32`.\n"
      ]
    },
    {
      "cell_type": "code",
      "metadata": {
        "id": "rDAgfzT6E11S",
        "colab_type": "code",
        "colab": {}
      },
      "source": [
        "# Normalize data\n",
        "\n"
      ],
      "execution_count": 0,
      "outputs": []
    },
    {
      "cell_type": "markdown",
      "metadata": {
        "id": "F5trWQL2FjCr",
        "colab_type": "text"
      },
      "source": [
        "How will the code above need to be changed for Boston housing dataset? Why?\n",
        "\n",
        "- Need to calculate mean and standard deviation per feature, thus need to use something like `x_train.mean(axis=0)`.\n",
        "\n",
        "Before we define and fit our model let's one-hot encode the labels. Don't forget to do the same for the testing labels and note you will not need to do this step in the case of regression."
      ]
    },
    {
      "cell_type": "code",
      "metadata": {
        "id": "RthqtOwJFjLa",
        "colab_type": "code",
        "outputId": "d33af13b-e0e3-4813-d920-d3b274026b3d",
        "colab": {
          "base_uri": "https://localhost:8080/",
          "height": 34
        }
      },
      "source": [
        "y_train.shape"
      ],
      "execution_count": 0,
      "outputs": [
        {
          "output_type": "execute_result",
          "data": {
            "text/plain": [
              "(60000,)"
            ]
          },
          "metadata": {
            "tags": []
          },
          "execution_count": 65
        }
      ]
    },
    {
      "cell_type": "code",
      "metadata": {
        "id": "RK8e9gKdFqdU",
        "colab_type": "code",
        "outputId": "ec08f270-c20c-4189-b5c6-3402afc81bac",
        "colab": {
          "base_uri": "https://localhost:8080/",
          "height": 34
        }
      },
      "source": [
        "y_train = tf.keras.utils.to_categorical(y_train, 10)\n",
        "y_test = tf.keras.utils.to_categorical(y_test, 10)\n",
        "y_train.shape"
      ],
      "execution_count": 0,
      "outputs": [
        {
          "output_type": "execute_result",
          "data": {
            "text/plain": [
              "(60000, 10)"
            ]
          },
          "metadata": {
            "tags": []
          },
          "execution_count": 66
        }
      ]
    },
    {
      "cell_type": "markdown",
      "metadata": {
        "id": "cMFizDPkFvLx",
        "colab_type": "text"
      },
      "source": [
        "Now fit a shallow convolutional neural network with a single `Dense` layer. Include one convilutional layer with 32 convolutional filters of size 3x3 and use the `relu` activation function.\n",
        "\n",
        "After the convolutional layer, flatten the tensor to be fed into the `Dense` layer.\n",
        "\n",
        "In the `Dense` layer use enough output nodes to have one corresponding to each class label (10). What is the activation function you should use here?\n",
        "\n",
        "In the optimizer use the `Adadelta` optimization function, and choose an appropriate loss function and model performance measure.\n",
        "\n",
        "Run the network for 5 epochs and use a `batch_size` of 64."
      ]
    },
    {
      "cell_type": "code",
      "metadata": {
        "id": "tHp8woWEFvWF",
        "colab_type": "code",
        "outputId": "1de778d1-0c4f-4f9c-ccd2-e5cc7968f827",
        "colab": {
          "base_uri": "https://localhost:8080/",
          "height": 212
        }
      },
      "source": [
        "# Define model\n"
      ],
      "execution_count": 0,
      "outputs": [
        {
          "output_type": "stream",
          "text": [
            "Epoch 1/5\n",
            "938/938 [==============================] - 23s 24ms/step - loss: 2.0794 - accuracy: 0.4075\n",
            "Epoch 2/5\n",
            "938/938 [==============================] - 19s 20ms/step - loss: 1.6129 - accuracy: 0.7256\n",
            "Epoch 3/5\n",
            "938/938 [==============================] - 19s 21ms/step - loss: 1.2331 - accuracy: 0.7894\n",
            "Epoch 4/5\n",
            "938/938 [==============================] - 19s 20ms/step - loss: 0.9663 - accuracy: 0.8195\n",
            "Epoch 5/5\n",
            "938/938 [==============================] - 19s 20ms/step - loss: 0.7917 - accuracy: 0.8401\n"
          ],
          "name": "stdout"
        },
        {
          "output_type": "execute_result",
          "data": {
            "text/plain": [
              "<tensorflow.python.keras.callbacks.History at 0x7fc7cd02f588>"
            ]
          },
          "metadata": {
            "tags": []
          },
          "execution_count": 67
        }
      ]
    },
    {
      "cell_type": "markdown",
      "metadata": {
        "id": "LWt8-hkWFz_4",
        "colab_type": "text"
      },
      "source": [
        "Report the test set accuracy.\n",
        "\n"
      ]
    },
    {
      "cell_type": "code",
      "metadata": {
        "id": "Zl-DUP-aF0Ld",
        "colab_type": "code",
        "outputId": "9bbb5b62-6954-47d4-9665-0ec87e58a9a2",
        "colab": {
          "base_uri": "https://localhost:8080/",
          "height": 34
        }
      },
      "source": [
        "# Your code here"
      ],
      "execution_count": 0,
      "outputs": [
        {
          "output_type": "stream",
          "text": [
            "0.8586999773979187\n"
          ],
          "name": "stdout"
        }
      ]
    },
    {
      "cell_type": "markdown",
      "metadata": {
        "id": "E_nR10umY7Cn",
        "colab_type": "text"
      },
      "source": [
        "## Question 2: Classifying Dogs and Cats\n",
        "The cats vs. dogs dataset that we will use isn't packaged with Keras. It was made available by Kaggle.com as part of a computer vision competition in late 2013, back when convnets weren't quite mainstream. You can download the original dataset at: https://www.kaggle.com/c/dogs-vs-cats/data (you will need to create a Kaggle account if you don't already have one -- don't worry, the process is painless).\n",
        "\n",
        "The pictures are medium-resolution color JPEGs. They look like this:\n",
        "![animals](https://drive.google.com/uc?id=1Xzd6kyXM06yiuxunE6XPGZh7vtVG0cYa)\n",
        "\n",
        "Unsurprisingly, the cats vs. dogs Kaggle competition in 2013 was won by entrants who used convnets. The best entries could achieve up to 95% accuracy. In our own example, we will get fairly close to this accuracy, even though we will be training our models on less than 10% of the data that was available to the competitors. This original dataset contains 25,000 images of dogs and cats (12,500 from each class) and is 543MB large (compressed). We will be using a subset of the data containing three subsets: a training set with 1000 samples of each class, a validation set with 500 samples of each class, and finally a test set with 500 samples of each class."
      ]
    },
    {
      "cell_type": "markdown",
      "metadata": {
        "id": "vmHxwy2tGAkU",
        "colab_type": "text"
      },
      "source": [
        "First, add [this](https://drive.google.com/open?id=1a85IldM96jUcKyPnu22_ZbOmwc2aoFre) folder with images to your Google Drive. It has the cat and dog images for this lab as well as other image datasets we'll use in the course. You can also download the images to your machine if you would like to run the code below in a Jupyter notebook."
      ]
    },
    {
      "cell_type": "code",
      "metadata": {
        "id": "9o2Qn3zEY_yJ",
        "colab_type": "code",
        "outputId": "528f49f5-5927-420e-bc92-2240240a5a2c",
        "colab": {
          "base_uri": "https://localhost:8080/",
          "height": 125
        }
      },
      "source": [
        "# Mount the drive\n",
        "from google.colab import drive\n",
        "drive.mount('/content/drive', force_remount=True)\n",
        "\n",
        "# The first time that you run this cell, you will need to authorize access in your drive. \n",
        "# Go to the link and copy the authorization code"
      ],
      "execution_count": 0,
      "outputs": [
        {
          "output_type": "stream",
          "text": [
            "Go to this URL in a browser: https://accounts.google.com/o/oauth2/auth?client_id=947318989803-6bn6qk8qdgf4n4g3pfee6491hc0brc4i.apps.googleusercontent.com&redirect_uri=urn%3aietf%3awg%3aoauth%3a2.0%3aoob&response_type=code&scope=email%20https%3a%2f%2fwww.googleapis.com%2fauth%2fdocs.test%20https%3a%2f%2fwww.googleapis.com%2fauth%2fdrive%20https%3a%2f%2fwww.googleapis.com%2fauth%2fdrive.photos.readonly%20https%3a%2f%2fwww.googleapis.com%2fauth%2fpeopleapi.readonly\n",
            "\n",
            "Enter your authorization code:\n",
            "··········\n",
            "Mounted at /content/drive\n"
          ],
          "name": "stdout"
        }
      ]
    },
    {
      "cell_type": "code",
      "metadata": {
        "id": "K1kCvUaQCldj",
        "colab_type": "code",
        "colab": {}
      },
      "source": [
        "# Define directories of where the training, validation and test sets reside\n",
        "# Heather's: base_dir = 'drive/My Drive/Teaching/BST 261/2020/Colab Notebooks/In-class examples/Data/cats_dogs_small/'\n",
        "# This is the path to where my files are - your path will be different, something like this:\n",
        "base_dir = 'drive/Data/cats_dogs_small/'\n",
        "\n",
        "train_dir = os.path.join(base_dir, 'train')\n",
        "validation_dir = os.path.join(base_dir, 'validation')\n",
        "test_dir = os.path.join(base_dir, 'test')\n",
        "\n",
        "train_cats_dir = os.path.join(base_dir, 'train/cats')\n",
        "train_dogs_dir = os.path.join(base_dir, 'train/dogs')\n",
        "validation_cats_dir = os.path.join(base_dir, 'validation/cats')\n",
        "validation_dogs_dir = os.path.join(base_dir, 'validation/dogs')\n",
        "test_cats_dir = os.path.join(base_dir, 'test/cats')\n",
        "test_dogs_dir = os.path.join(base_dir, 'test/dogs')"
      ],
      "execution_count": 0,
      "outputs": []
    },
    {
      "cell_type": "code",
      "metadata": {
        "id": "G6mjKgM5Cr7A",
        "colab_type": "code",
        "outputId": "2840ad4c-aab5-42e7-824c-e3aed2cec53e",
        "colab": {
          "base_uri": "https://localhost:8080/",
          "height": 123
        }
      },
      "source": [
        "# Let's check the number of images in each set\n",
        "print('Total training cat images:', len(os.listdir(train_cats_dir)))\n",
        "print('Total training dog images:', len(os.listdir(train_dogs_dir)))\n",
        "print('Total validation cat images:', len(os.listdir(validation_cats_dir)))\n",
        "print('Total validation dog images:', len(os.listdir(validation_dogs_dir)))\n",
        "print('Total test cat images:', len(os.listdir(test_cats_dir)))\n",
        "print('Total test dog images:', len(os.listdir(test_dogs_dir)))"
      ],
      "execution_count": 0,
      "outputs": [
        {
          "output_type": "stream",
          "text": [
            "Total training cat images: 1000\n",
            "Total training dog images: 1000\n",
            "Total validation cat images: 500\n",
            "Total validation dog images: 500\n",
            "Total test cat images: 500\n",
            "Total test dog images: 500\n"
          ],
          "name": "stdout"
        }
      ]
    },
    {
      "cell_type": "markdown",
      "metadata": {
        "id": "nd8_j0HZG4gb",
        "colab_type": "text"
      },
      "source": [
        "### Creating a CNN from scratch\n",
        "We've already built a small CNN for MNIST in the previous question. We will reuse the same general structure: our CNN will be a stack of alternated `Conv2D` (with `relu` activation) and `MaxPooling2D` layers.\n",
        "\n",
        "However, since we are dealing with bigger images and a more complex problem, we will make our network accordingly larger. This serves both to augment the capacity of the network, and to further reduce the size of the feature maps, so that they aren't overly large when we reach the `Flatten` layer. \n",
        "\n",
        "Define a model with 3 `Conv2D` layers with 32, 64 and 128 3x3 filters respectively and `relu` activation function, each followed by a `MaxPooling2D` layer with a pool size of 2. Then add a `Flatten` layer followed by a `Dense` layer with 512 nodes and `relu` activation function. Finally, add an appropriate output layer. "
      ]
    },
    {
      "cell_type": "code",
      "metadata": {
        "id": "glYFNdILHT_l",
        "colab_type": "code",
        "colab": {}
      },
      "source": [
        "# Define model\n"
      ],
      "execution_count": 0,
      "outputs": []
    },
    {
      "cell_type": "markdown",
      "metadata": {
        "id": "GuWR2kt5HUZ9",
        "colab_type": "text"
      },
      "source": [
        "We can check out our model architecture using the following `.summary()` command. Here, since we start from inputs of size 150x150 (a somewhat arbitrary choice), we end up with feature maps of size 7x7 right before the `Flatten` layer.\n",
        "\n",
        "Note that the depth of the feature maps is progressively increasing in the network (from 32 to 128), while the size of the feature maps is decreasing (from 148x148 to 17x17). This is a pattern that you will see in almost all CNNs.\n"
      ]
    },
    {
      "cell_type": "code",
      "metadata": {
        "id": "7rPAXGiTHUk0",
        "colab_type": "code",
        "outputId": "97bdfe5e-9361-4843-cdf1-3209544cd002",
        "colab": {
          "base_uri": "https://localhost:8080/",
          "height": 478
        }
      },
      "source": [
        "model.summary()"
      ],
      "execution_count": 0,
      "outputs": [
        {
          "output_type": "stream",
          "text": [
            "Model: \"sequential\"\n",
            "_________________________________________________________________\n",
            "Layer (type)                 Output Shape              Param #   \n",
            "=================================================================\n",
            "conv2d (Conv2D)              (None, 148, 148, 32)      896       \n",
            "_________________________________________________________________\n",
            "max_pooling2d (MaxPooling2D) (None, 74, 74, 32)        0         \n",
            "_________________________________________________________________\n",
            "conv2d_1 (Conv2D)            (None, 72, 72, 64)        18496     \n",
            "_________________________________________________________________\n",
            "max_pooling2d_1 (MaxPooling2 (None, 36, 36, 64)        0         \n",
            "_________________________________________________________________\n",
            "conv2d_2 (Conv2D)            (None, 34, 34, 128)       73856     \n",
            "_________________________________________________________________\n",
            "max_pooling2d_2 (MaxPooling2 (None, 17, 17, 128)       0         \n",
            "_________________________________________________________________\n",
            "flatten (Flatten)            (None, 36992)             0         \n",
            "_________________________________________________________________\n",
            "dense (Dense)                (None, 512)               18940416  \n",
            "_________________________________________________________________\n",
            "dense_1 (Dense)              (None, 1)                 513       \n",
            "=================================================================\n",
            "Total params: 19,034,177\n",
            "Trainable params: 19,034,177\n",
            "Non-trainable params: 0\n",
            "_________________________________________________________________\n"
          ],
          "name": "stdout"
        }
      ]
    },
    {
      "cell_type": "markdown",
      "metadata": {
        "id": "TGaQK0NlJzzq",
        "colab_type": "text"
      },
      "source": [
        "Now define how to compile the model with loss function, optimizer and accuracy metric."
      ]
    },
    {
      "cell_type": "code",
      "metadata": {
        "id": "pGKkuXsZJ0MZ",
        "colab_type": "code",
        "colab": {}
      },
      "source": [
        "# Your code here"
      ],
      "execution_count": 0,
      "outputs": []
    },
    {
      "cell_type": "markdown",
      "metadata": {
        "id": "2gDqr_31LI3z",
        "colab_type": "text"
      },
      "source": [
        "As you know, data should be formatted into appropriately pre-processed floating point tensors before being fed into our network. Currently, our data sits on a drive as JPEG files, so the steps for getting it into our network are roughly:\n",
        "\n",
        "1. Read the picture files.\n",
        "2. Decode the JPEG content to RBG grids of pixels.\n",
        "3. Convert these into floating point tensors.\n",
        "4. Rescale the pixel values (between 0 and 255) to the [0, 1] interval (as you know, neural networks prefer to deal with small input values).\n",
        "\n",
        "It may seem a bit daunting, but thankfully Keras has utilities to take care of these steps automatically. Keras has a module with image processing helper tools, located at `keras.preprocessing.image`. In particular, it contains the class `ImageDataGenerator` which allows to quickly set up Python generators that can automatically turn image files on disk into batches of pre-processed tensors. This is what we will use here."
      ]
    },
    {
      "cell_type": "code",
      "metadata": {
        "id": "gh_am-ryLTky",
        "colab_type": "code",
        "outputId": "3f1c9bf4-29cf-4746-ec67-d05110c6be07",
        "colab": {
          "base_uri": "https://localhost:8080/",
          "height": 52
        }
      },
      "source": [
        "from keras.preprocessing.image import ImageDataGenerator\n",
        "\n",
        "# All images will be rescaled by 1./255\n",
        "train_datagen = ImageDataGenerator(rescale=1./255)\n",
        "test_datagen = ImageDataGenerator(rescale=1./255)\n",
        "\n",
        "train_generator = train_datagen.flow_from_directory(\n",
        "        # This is the target directory\n",
        "        train_dir,\n",
        "        # All images will be resized to 150x150\n",
        "        target_size = (150, 150),\n",
        "        batch_size = 20,\n",
        "        # Since we use binary_crossentropy loss, we need binary labels\n",
        "        class_mode = 'binary')\n",
        "\n",
        "validation_generator = test_datagen.flow_from_directory(\n",
        "        validation_dir,\n",
        "        target_size = (150, 150),\n",
        "        batch_size = 20,\n",
        "        class_mode = 'binary')"
      ],
      "execution_count": 0,
      "outputs": [
        {
          "output_type": "stream",
          "text": [
            "Found 2000 images belonging to 2 classes.\n",
            "Found 1000 images belonging to 2 classes.\n"
          ],
          "name": "stdout"
        }
      ]
    },
    {
      "cell_type": "markdown",
      "metadata": {
        "id": "AbhsvBUAL6k8",
        "colab_type": "text"
      },
      "source": [
        "Fit the model to the data using the generator. It expects as first argument a Python generator that will yield batches of inputs and targets indefinitely, like ours does. Because the data is being generated endlessly, the generator needs to know how many samples to draw from the generator before declaring an epoch over. This is the role of the `steps_per_epoch` argument: after having drawn `steps_per_epoch` batches from the generator, i.e. after having run for `steps_per_epoch` gradient descent steps, the fitting process will go to the next epoch.\n",
        "\n",
        "When using the generator, one may pass a `validation_data` argument, much like with the fit method. Importantly, this argument is allowed to be a data generator itself, but it could be a tuple of numpy arrays as well. If you pass a generator as `validation_data`, then this generator is expected to yield batches of validation data endlessly, and thus you should also specify the `validation_steps` argument, which tells the process how many batches to draw from the validation generator for evaluation. Train the model for 15 epochs."
      ]
    },
    {
      "cell_type": "code",
      "metadata": {
        "id": "NKNb13XgMZJ4",
        "colab_type": "code",
        "outputId": "4a90bb4c-dca2-447e-d67f-ad5e133a64c1",
        "colab": {
          "base_uri": "https://localhost:8080/",
          "height": 550
        }
      },
      "source": [
        "# Your code here"
      ],
      "execution_count": 0,
      "outputs": [
        {
          "output_type": "stream",
          "text": [
            "Epoch 1/15\n",
            "100/100 [==============================] - 823s 8s/step - loss: 0.6986 - accuracy: 0.5425 - val_loss: 0.6594 - val_accuracy: 0.5680\n",
            "Epoch 2/15\n",
            "100/100 [==============================] - 111s 1s/step - loss: 0.6238 - accuracy: 0.6495 - val_loss: 0.6180 - val_accuracy: 0.6370\n",
            "Epoch 3/15\n",
            "100/100 [==============================] - 111s 1s/step - loss: 0.5660 - accuracy: 0.7085 - val_loss: 0.5942 - val_accuracy: 0.6830\n",
            "Epoch 4/15\n",
            "100/100 [==============================] - 111s 1s/step - loss: 0.5233 - accuracy: 0.7445 - val_loss: 0.6105 - val_accuracy: 0.6840\n",
            "Epoch 5/15\n",
            "100/100 [==============================] - 111s 1s/step - loss: 0.4823 - accuracy: 0.7675 - val_loss: 0.5781 - val_accuracy: 0.6970\n",
            "Epoch 6/15\n",
            "100/100 [==============================] - 111s 1s/step - loss: 0.4454 - accuracy: 0.7935 - val_loss: 0.6579 - val_accuracy: 0.6790\n",
            "Epoch 7/15\n",
            "100/100 [==============================] - 111s 1s/step - loss: 0.4103 - accuracy: 0.8195 - val_loss: 0.5766 - val_accuracy: 0.6960\n",
            "Epoch 8/15\n",
            "100/100 [==============================] - 112s 1s/step - loss: 0.3678 - accuracy: 0.8420 - val_loss: 0.6899 - val_accuracy: 0.6570\n",
            "Epoch 9/15\n",
            "100/100 [==============================] - 112s 1s/step - loss: 0.3374 - accuracy: 0.8565 - val_loss: 0.5806 - val_accuracy: 0.7170\n",
            "Epoch 10/15\n",
            "100/100 [==============================] - 114s 1s/step - loss: 0.3020 - accuracy: 0.8730 - val_loss: 0.6110 - val_accuracy: 0.7060\n",
            "Epoch 11/15\n",
            "100/100 [==============================] - 114s 1s/step - loss: 0.2717 - accuracy: 0.8990 - val_loss: 0.6543 - val_accuracy: 0.6980\n",
            "Epoch 12/15\n",
            "100/100 [==============================] - 113s 1s/step - loss: 0.2491 - accuracy: 0.9045 - val_loss: 0.6567 - val_accuracy: 0.7000\n",
            "Epoch 13/15\n",
            "100/100 [==============================] - 113s 1s/step - loss: 0.2225 - accuracy: 0.9220 - val_loss: 0.6454 - val_accuracy: 0.7130\n",
            "Epoch 14/15\n",
            "100/100 [==============================] - 113s 1s/step - loss: 0.1896 - accuracy: 0.9305 - val_loss: 0.6964 - val_accuracy: 0.7160\n",
            "Epoch 15/15\n",
            "100/100 [==============================] - 113s 1s/step - loss: 0.1635 - accuracy: 0.9480 - val_loss: 0.7233 - val_accuracy: 0.7010\n"
          ],
          "name": "stdout"
        }
      ]
    },
    {
      "cell_type": "markdown",
      "metadata": {
        "id": "5FvCLlL0M6H-",
        "colab_type": "text"
      },
      "source": [
        "Plot the accuracy and loss for the train and validation sets."
      ]
    },
    {
      "cell_type": "code",
      "metadata": {
        "id": "vNq3tOGlM68T",
        "colab_type": "code",
        "outputId": "20501fe3-3bc6-4687-c546-200fb72d55a2",
        "colab": {
          "base_uri": "https://localhost:8080/",
          "height": 72
        }
      },
      "source": [
        "import seaborn as sns\n",
        "sns.set()\n",
        "\n",
        "train_acc  = history.history['accuracy']\n",
        "train_loss = history.history['loss']\n",
        "val_acc  = history.history['val_accuracy']\n",
        "val_loss = history.history['val_loss']\n",
        "\n",
        "epochs = range(1, len(train_acc) + 1)"
      ],
      "execution_count": 0,
      "outputs": [
        {
          "output_type": "stream",
          "text": [
            "/usr/local/lib/python3.6/dist-packages/statsmodels/tools/_testing.py:19: FutureWarning: pandas.util.testing is deprecated. Use the functions in the public API at pandas.testing instead.\n",
            "  import pandas.util.testing as tm\n"
          ],
          "name": "stderr"
        }
      ]
    },
    {
      "cell_type": "code",
      "metadata": {
        "id": "nryLtH6JM-AF",
        "colab_type": "code",
        "outputId": "f740dc48-5ed7-49f7-e832-044096e65d2b",
        "colab": {
          "base_uri": "https://localhost:8080/",
          "height": 302
        }
      },
      "source": [
        "# Your code here"
      ],
      "execution_count": 0,
      "outputs": [
        {
          "output_type": "execute_result",
          "data": {
            "text/plain": [
              "<matplotlib.legend.Legend at 0x7f51e6534278>"
            ]
          },
          "metadata": {
            "tags": []
          },
          "execution_count": 15
        },
        {
          "output_type": "display_data",
          "data": {
            "image/png": "[encoded data removed]",
            "text/plain": [
              "<Figure size 432x288 with 1 Axes>"
            ]
          },
          "metadata": {
            "tags": []
          }
        }
      ]
    },
    {
      "cell_type": "code",
      "metadata": {
        "id": "o0iSQronM-Ln",
        "colab_type": "code",
        "outputId": "c87f1e8a-6e69-4a76-c01b-d0f31649f0df",
        "colab": {
          "base_uri": "https://localhost:8080/",
          "height": 302
        }
      },
      "source": [
        "# Your code here"
      ],
      "execution_count": 0,
      "outputs": [
        {
          "output_type": "execute_result",
          "data": {
            "text/plain": [
              "<matplotlib.legend.Legend at 0x7f51ea2a6a90>"
            ]
          },
          "metadata": {
            "tags": []
          },
          "execution_count": 16
        },
        {
          "output_type": "display_data",
          "data": {
            "image/png": "[encoded data removed]",
            "text/plain": [
              "<Figure size 432x288 with 1 Axes>"
            ]
          },
          "metadata": {
            "tags": []
          }
        }
      ]
    },
    {
      "cell_type": "markdown",
      "metadata": {
        "id": "yK6kW5GTsfHh",
        "colab_type": "text"
      },
      "source": [
        "Does the model appear to be overfitting? \n",
        "\n"
      ]
    }
  ]
}